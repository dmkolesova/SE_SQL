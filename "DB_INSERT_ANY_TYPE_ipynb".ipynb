{
  "nbformat": 4,
  "nbformat_minor": 0,
  "metadata": {
    "colab": {
      "provenance": [],
      "include_colab_link": true
    },
    "kernelspec": {
      "name": "python3",
      "display_name": "Python 3"
    },
    "language_info": {
      "name": "python"
    }
  },
  "cells": [
    {
      "cell_type": "markdown",
      "metadata": {
        "id": "view-in-github",
        "colab_type": "text"
      },
      "source": [
        "<a href=\"https://colab.research.google.com/github/dmkolesova/SE_SQL/blob/main/%22DB_INSERT_ANY_TYPE_ipynb%22.ipynb\" target=\"_parent\"><img src=\"https://colab.research.google.com/assets/colab-badge.svg\" alt=\"Open In Colab\"/></a>"
      ]
    },
    {
      "cell_type": "markdown",
      "source": [
        "# Код для генерации данных PostgreSQL"
      ],
      "metadata": {
        "id": "Yp8E69VE0Lch"
      }
    },
    {
      "cell_type": "markdown",
      "source": [
        "Инструкция по генерации строк:\n",
        "1. Все ячейки кода необходимо запустить в той последовательности, в который они представлены\n",
        "2. Для генерации данных для своего кейса необходимо перейти на [ячейку](https://colab.research.google.com/drive/17Ks3IwdBWbquXLDvQ56HsnzCY3lOqgxE#scrollTo=zqgbRKu1HQZO&line=1&uniqifier=1) и ввести свои поля"
      ],
      "metadata": {
        "id": "PFNzAuhH0cjs"
      }
    },
    {
      "cell_type": "markdown",
      "source": [
        "### 1. Установка библиотек и импорт модулей"
      ],
      "metadata": {
        "id": "rx5ANlNY1olg"
      }
    },
    {
      "cell_type": "code",
      "execution_count": null,
      "metadata": {
        "id": "lieM8LZesiyE"
      },
      "outputs": [],
      "source": [
        "!pip install Faker\n",
        "\n",
        "import random\n",
        "import datetime\n",
        "from faker import Faker\n",
        "from google.colab import files\n",
        "\n",
        "from faker.providers.address.ru_RU import Provider"
      ]
    },
    {
      "cell_type": "markdown",
      "source": [
        "### 2. Формирование функций генерации"
      ],
      "metadata": {
        "id": "0vNHBl9n1xm9"
      }
    },
    {
      "cell_type": "code",
      "source": [
        "fake = Faker('ru_RU')\n",
        "fake.add_provider(Provider)\n",
        "\n",
        "def get_fake_type(*, type):\n",
        "  start_date = datetime.date(2023, 1, 1)\n",
        "  end_date = datetime.date(2023, 12, 31)\n",
        "  products = ['яблоки желтые', 'малина', 'вода', 'хлеб белый','хлеб серый', 'креветки', 'форель', 'апельсины', 'кета','курица','яйцо перепелиное','яйцо куриное','лаваш',\n",
        "            'булка сдобная','булка сахарная','помидоры бакинские','помидоры чери','огурцы','перец сладкий','перец острый','перец болгарский','мандарины','укроп свежий',\n",
        "            'укроп сушеный','клубника свежая','клубника мороженная','мороженое','картошка','морковь', 'свекла','пангасиус','семга','кальмар замороженный','горошек зеленый',\n",
        "            'смородина черная','смородина красная','соль поваренная пищевая йодированная','чай черный байховый','чай зеленый','чай красный','кофе','кофе с молоком','какао',\n",
        "            'молоко','кефир','сыр с плесенью','сыр плавленый','сыр твердый','сыр мягкий','яблоки красные','яблоки зеленые','яблоки сушеные','икра красная',\n",
        "            'икра черная','икра заморская баклажанная','масло сливочное','масло оливковое','масло подсолнечное','масло кокосовое','орех грецкий','орех бразильский',\n",
        "            'лист лавровый','куркума','кукуруза','печенье сладкое','пряники сдобные','тесто слоеное','варенц','ряженка','снежок','шоколад молочный']\n",
        "  if type == 'name':\n",
        "    return f\"'{fake.unique.name()}'\"\n",
        "  elif type == 'email':\n",
        "    return f\"'{fake.unique.email()}'\"\n",
        "  elif type == 'phone':\n",
        "    return f\"'{fake.phone_number()}'\"\n",
        "  elif type == 'company':\n",
        "    return f\"'{fake.company()}'\"\n",
        "  elif type == 'address':\n",
        "    return f\"'{fake.address()}'\"\n",
        "  elif type.startswith('fk_int'):\n",
        "    return fake.random_int(min=int(str.split(type, '_')[-2]), max=int(str.split(type, '_')[-1]))\n",
        "  elif type == 'int':\n",
        "    return fake.random_int(min=1, max=100)\n",
        "  elif type == 'float':\n",
        "    return round(fake.pyfloat(right_digits=2, min_value=1, max_value=10000), 2)\n",
        "  elif type == 'date':\n",
        "    return f\"'{(start_date + datetime.timedelta(days=random.randint(0, (end_date - start_date).days))).strftime('%Y-%m-%d')}'\"\n",
        "  elif type == 'product':\n",
        "    return f\"'{random.choice(products)}'\"\n",
        "  else:\n",
        "    return 'Incorrect type'\n",
        "\n",
        "def generate_rows(*, row_number, table_name, column_names):\n",
        "  query = \"\";\n",
        "  columns_str = ', '.join(f'\"{column}\"' for column in column_names.keys())\n",
        "  for i in range(row_number):\n",
        "    values = list()\n",
        "    values.append(i+1)\n",
        "    for k, v in column_names.items():\n",
        "      if v != 'id':\n",
        "        values.append(get_fake_type(type=v))\n",
        "    values_str = ', '.join(str(value) for value in values)\n",
        "    insert_query = f'INSERT INTO \"{table_name}\" ({columns_str}) VALUES ({values_str});\\n'\n",
        "    query += insert_query\n",
        "  return query\n",
        "\n",
        "\n",
        "def save_to_file(*, row_number, table_name, column_names):\n",
        "  filename = f'{table_name}.sql'\n",
        "  with open(filename, 'w') as f:\n",
        "    generated_rows = generate_rows(row_number=row_number, table_name=table_name, column_names=column_names)\n",
        "    f.write(generated_rows)\n",
        "  f.close()\n",
        "  files.download(filename)"
      ],
      "metadata": {
        "id": "lPU_yg6O4F00"
      },
      "execution_count": 2,
      "outputs": []
    },
    {
      "cell_type": "markdown",
      "source": [
        "### 3. Заполнение переменных"
      ],
      "metadata": {
        "id": "zqgbRKu1HQZO"
      }
    },
    {
      "cell_type": "markdown",
      "source": [
        "> Название таблицы"
      ],
      "metadata": {
        "id": "Ar5_m5XP3k-O"
      }
    },
    {
      "cell_type": "code",
      "source": [
        "table_name = 'customer'"
      ],
      "metadata": {
        "id": "XPOvKg8y3jsD"
      },
      "execution_count": 3,
      "outputs": []
    },
    {
      "cell_type": "markdown",
      "source": [
        "> Количество строк для генерации"
      ],
      "metadata": {
        "id": "hrisDJL637PE"
      }
    },
    {
      "cell_type": "code",
      "source": [
        "k = 5"
      ],
      "metadata": {
        "id": "fpyp0g4D3-Q8"
      },
      "execution_count": 4,
      "outputs": []
    },
    {
      "cell_type": "markdown",
      "source": [
        "> Столбцы таблицы\n",
        "\n",
        "Правила оформления:\n",
        "1. Составляется ввиде словаря {\"k\":\"v\"}, где \"k\" - название поля, \"v\" - тип поля.\n",
        "2. Обязательно наличие поля с типом \"id\"\n",
        "3. Тип поля может быть одним из:\n",
        "\n",
        "\n",
        "* name - ФИО, например Иван Иванович Иванов\n",
        "* email - почта, например 123@example.org\n",
        "* phone - телефон, например 89999011121 или +7 (999) 023-4444\n",
        "* company - наименование компаний, например ОАО Ромашка\n",
        "* address - адрес, например с. Владивосток, алл. Запорожская, д. 1 к. 1, 111111\n",
        "* product - наименование продукта, например шоколад молочный\n",
        "* date - дата в диапазоне от 2023-01-01 до 2023-12-31\n",
        "* float - число с плавающей точкой в диапазоне от 1 до 10000, например 78.73\n",
        "* int - целое число в диапазоне от 1 до 100, например 1001\n",
        "* fk_int_0_100 - поле FOREIGN KEY, где ключ, на который ссылается должен быть типа int. При этом диапазон значений (0_100) может быть изменен в соответсвии с вашим кейсом. Например, fk_int_1_5 или fk_int_0_34568\n",
        "\n",
        "4. Если тип поля введен некорректно, то программа сгенерирует значение 'Incorrect type'\n",
        "\n"
      ],
      "metadata": {
        "id": "mzkEcq2C31Fp"
      }
    },
    {
      "cell_type": "code",
      "source": [
        "column_names = {'id':'id', 'name':'name', 'phone': 'phone', 'state': 'fk_int_0_5', 'cmp': 'company', 'addr': 'address', 'price': 'float', 'dt':'date', 'e':'email', 'products': 'product', 'quantity': 'int'}"
      ],
      "metadata": {
        "id": "XOOJmq8uEKFP"
      },
      "execution_count": 5,
      "outputs": []
    },
    {
      "cell_type": "markdown",
      "source": [
        "### 4. Пример генерации записей с выводом на экран"
      ],
      "metadata": {
        "id": "9Vi9d7b1HAed"
      }
    },
    {
      "cell_type": "code",
      "source": [
        "q = generate_rows(row_number=k, table_name=table_name, column_names=column_names)\n",
        "print(q)"
      ],
      "metadata": {
        "id": "hDRRWSuyELdR"
      },
      "execution_count": null,
      "outputs": []
    },
    {
      "cell_type": "markdown",
      "source": [
        "### 5. Пример с генерацией записей в файл"
      ],
      "metadata": {
        "id": "roAMOnBCHYhY"
      }
    },
    {
      "cell_type": "code",
      "source": [
        "save_to_file(row_number=k, table_name=table_name, column_names=column_names)"
      ],
      "metadata": {
        "colab": {
          "base_uri": "https://localhost:8080/",
          "height": 17
        },
        "id": "yWV0IBLNHcw3",
        "outputId": "65c8c124-120a-4619-e299-495c5359445b"
      },
      "execution_count": 7,
      "outputs": [
        {
          "output_type": "display_data",
          "data": {
            "text/plain": [
              "<IPython.core.display.Javascript object>"
            ],
            "application/javascript": [
              "\n",
              "    async function download(id, filename, size) {\n",
              "      if (!google.colab.kernel.accessAllowed) {\n",
              "        return;\n",
              "      }\n",
              "      const div = document.createElement('div');\n",
              "      const label = document.createElement('label');\n",
              "      label.textContent = `Downloading \"${filename}\": `;\n",
              "      div.appendChild(label);\n",
              "      const progress = document.createElement('progress');\n",
              "      progress.max = size;\n",
              "      div.appendChild(progress);\n",
              "      document.body.appendChild(div);\n",
              "\n",
              "      const buffers = [];\n",
              "      let downloaded = 0;\n",
              "\n",
              "      const channel = await google.colab.kernel.comms.open(id);\n",
              "      // Send a message to notify the kernel that we're ready.\n",
              "      channel.send({})\n",
              "\n",
              "      for await (const message of channel.messages) {\n",
              "        // Send a message to notify the kernel that we're ready.\n",
              "        channel.send({})\n",
              "        if (message.buffers) {\n",
              "          for (const buffer of message.buffers) {\n",
              "            buffers.push(buffer);\n",
              "            downloaded += buffer.byteLength;\n",
              "            progress.value = downloaded;\n",
              "          }\n",
              "        }\n",
              "      }\n",
              "      const blob = new Blob(buffers, {type: 'application/binary'});\n",
              "      const a = document.createElement('a');\n",
              "      a.href = window.URL.createObjectURL(blob);\n",
              "      a.download = filename;\n",
              "      div.appendChild(a);\n",
              "      a.click();\n",
              "      div.remove();\n",
              "    }\n",
              "  "
            ]
          },
          "metadata": {}
        },
        {
          "output_type": "display_data",
          "data": {
            "text/plain": [
              "<IPython.core.display.Javascript object>"
            ],
            "application/javascript": [
              "download(\"download_8496e8be-e76d-4145-8d12-b5b8c721bf56\", \"customer.sql\", 1964)"
            ]
          },
          "metadata": {}
        }
      ]
    }
  ]
}