{
  "nbformat": 4,
  "nbformat_minor": 0,
  "metadata": {
    "colab": {
      "provenance": [],
      "include_colab_link": true
    },
    "kernelspec": {
      "name": "python3",
      "display_name": "Python 3"
    },
    "language_info": {
      "name": "python"
    }
  },
  "cells": [
    {
      "cell_type": "markdown",
      "metadata": {
        "id": "view-in-github",
        "colab_type": "text"
      },
      "source": [
        "<a href=\"https://colab.research.google.com/github/dmkolesova/SE_SQL/blob/main/%22DB_INSERT_ANY_TYPE_ipynb%22.ipynb\" target=\"_parent\"><img src=\"https://colab.research.google.com/assets/colab-badge.svg\" alt=\"Open In Colab\"/></a>"
      ]
    },
    {
      "cell_type": "markdown",
      "source": [
        "# Код для генерации данных PostgreSQL"
      ],
      "metadata": {
        "id": "Yp8E69VE0Lch"
      }
    },
    {
      "cell_type": "markdown",
      "source": [
        "Инструкция по генерации строк:\n",
        "1. Все ячейки кода необходимо запустить в той последовательности, в который они представлены\n",
        "2. Для генерации данных для своего кейса необходимо перейти на ячейку (ссылка) и ввести свои поля"
      ],
      "metadata": {
        "id": "PFNzAuhH0cjs"
      }
    },
    {
      "cell_type": "markdown",
      "source": [
        "### 1. Установка библиотек и импорт модулей"
      ],
      "metadata": {
        "id": "rx5ANlNY1olg"
      }
    },
    {
      "cell_type": "code",
      "execution_count": 2,
      "metadata": {
        "id": "lieM8LZesiyE",
        "colab": {
          "base_uri": "https://localhost:8080/"
        },
        "outputId": "d1520390-fd82-44c1-f6a0-b4aa84690ba0"
      },
      "outputs": [
        {
          "output_type": "stream",
          "name": "stdout",
          "text": [
            "Collecting Faker\n",
            "  Downloading Faker-19.6.2-py3-none-any.whl (1.7 MB)\n",
            "\u001b[2K     \u001b[90m━━━━━━━━━━━━━━━━━━━━━━━━━━━━━━━━━━━━━━━━\u001b[0m \u001b[32m1.7/1.7 MB\u001b[0m \u001b[31m10.0 MB/s\u001b[0m eta \u001b[36m0:00:00\u001b[0m\n",
            "\u001b[?25hRequirement already satisfied: python-dateutil>=2.4 in /usr/local/lib/python3.10/dist-packages (from Faker) (2.8.2)\n",
            "Requirement already satisfied: six>=1.5 in /usr/local/lib/python3.10/dist-packages (from python-dateutil>=2.4->Faker) (1.16.0)\n",
            "Installing collected packages: Faker\n",
            "Successfully installed Faker-19.6.2\n"
          ]
        }
      ],
      "source": [
        "!pip install Faker\n",
        "\n",
        "import random\n",
        "import datetime\n",
        "from faker import Faker\n",
        "from google.colab import files\n",
        "\n",
        "from faker.providers.address.ru_RU import Provider"
      ]
    },
    {
      "cell_type": "markdown",
      "source": [
        "### 2. Формирование функций генерации"
      ],
      "metadata": {
        "id": "0vNHBl9n1xm9"
      }
    },
    {
      "cell_type": "code",
      "source": [
        "fake = Faker('ru_RU')\n",
        "fake.add_provider(Provider)\n",
        "\n",
        "# def generate_rows(*, row_number, table_name, column_names):\n",
        "#   query = \"\";\n",
        "#   columns_str = ', '.join(f'\"{column}\"' for column in column_names)\n",
        "#   for i in range(row_number):\n",
        "#         # генерируем значения для каждого столбца\n",
        "#         name=f\"'{fake.unique.name()}'\"\n",
        "#         email=f\"'{fake.unique.email()}'\"\n",
        "#         phone=f\"'{fake.phone_number()}'\"\n",
        "#         state=fake.random_int(min=1, max=4)\n",
        "\n",
        "#         # формируем список со значениями\n",
        "#         values = [i+1, name, email, phone, state]\n",
        "#         # формируем строку со значениями\n",
        "#         values_str = ', '.join(str(value) for value in values)\n",
        "#         # формируем DML-запрос\n",
        "#         insert_query = f'INSERT INTO \"{table_name}\" ({columns_str}) VALUES ({values_str});\\n'\n",
        "#         query += insert_query\n",
        "#   return query\n",
        "\n",
        "def get_fake_type(*, type):\n",
        "  start_date = datetime.date(2023, 1, 1)\n",
        "  end_date = datetime.date(2023, 12, 31)\n",
        "  if type == 'name':\n",
        "    return f\"'{fake.unique.name()}'\"\n",
        "  elif type == 'email':\n",
        "    return f\"'{fake.unique.email()}'\"\n",
        "  elif type == 'phone':\n",
        "    return f\"'{fake.phone_number()}'\"\n",
        "  elif type == 'company':\n",
        "    return f\"'{fake.company()}'\"\n",
        "  elif type == 'address':\n",
        "    return f\"'{fake.address()}'\"\n",
        "  elif type.startswith('fk_int'):\n",
        "    return fake.random_int(min=int(str.split(type, '_')[-2]), max=int(str.split(type, '_')[-1]))\n",
        "  elif type == 'float':\n",
        "    return round(fake.pyfloat(right_digits=2, min_value=0, max_value=10000), 2)\n",
        "  elif type == 'date':\n",
        "    return f\"'{(start_date + datetime.timedelta(days=random.randint(0, (end_date - start_date).days))).strftime('%Y-%m-%d')}'\"\n",
        "  else:\n",
        "    return 'Incorrect type'\n",
        "\n",
        "def generate_rows(*, row_number, table_name, column_names):\n",
        "  query = \"\";\n",
        "  columns_str = ', '.join(f'\"{column}\"' for column in column_names.keys())\n",
        "  for i in range(row_number):\n",
        "    values = list()\n",
        "    values.append(i+1)\n",
        "    for k, v in column_names.items():\n",
        "      if v != 'id':\n",
        "        values.append(get_fake_type(type=v))\n",
        "    values_str = ', '.join(str(value) for value in values)\n",
        "    insert_query = f'INSERT INTO \"{table_name}\" ({columns_str}) VALUES ({values_str});\\n'\n",
        "    query += insert_query\n",
        "  return query\n",
        "\n",
        "\n",
        "def save_to_file(*, row_number, table_name, column_names):\n",
        "  filename = f'{table_name}.sql'\n",
        "  with open(filename, 'w') as f:\n",
        "    generated_rows = generate_rows(row_number=row_number, table_name=table_name, column_names=column_names)\n",
        "    f.write(generated_rows)\n",
        "  f.close()\n",
        "  files.download(filename)"
      ],
      "metadata": {
        "id": "lPU_yg6O4F00"
      },
      "execution_count": 60,
      "outputs": []
    },
    {
      "cell_type": "markdown",
      "source": [
        "### 3. Заполнение переменных"
      ],
      "metadata": {
        "id": "zqgbRKu1HQZO"
      }
    },
    {
      "cell_type": "markdown",
      "source": [
        "> Название таблицы"
      ],
      "metadata": {
        "id": "Ar5_m5XP3k-O"
      }
    },
    {
      "cell_type": "code",
      "source": [
        "table_name = 'customer'"
      ],
      "metadata": {
        "id": "XPOvKg8y3jsD"
      },
      "execution_count": 61,
      "outputs": []
    },
    {
      "cell_type": "markdown",
      "source": [
        "> Количество строк для генерации"
      ],
      "metadata": {
        "id": "hrisDJL637PE"
      }
    },
    {
      "cell_type": "code",
      "source": [
        "k = 5"
      ],
      "metadata": {
        "id": "fpyp0g4D3-Q8"
      },
      "execution_count": 62,
      "outputs": []
    },
    {
      "cell_type": "markdown",
      "source": [
        "> Столбцы таблицы\n",
        "\n",
        "Правила оформления:\n",
        "1. Составляется ввиде словаря {\"k\":\"v\"}, где \"k\" - название поля, \"v\" - тип поля.\n",
        "2. Обязательно наличие поля с типом \"id\"\n",
        "3. Тип поля может быть одним из:\n",
        "\n",
        "\n",
        "* name - ФИО, например Иван Иванович Иванов\n",
        "* email - почта, например 123@example.org\n",
        "* phone - телефон, например 89999011121 или +7 (999) 023-4444\n",
        "* company - наименование компаний, например ОАО Ромашка\n",
        "* address - адрес, например с. Владивосток, алл. Запорожская, д. 1 к. 1, 111111\n",
        "* date - дата в диапазоне от 2023-01-01 до 2023-12-31\n",
        "* float - число с плавающей точкой, например 78.73\n",
        "* fk_int_0_100 - поле FOREIGN KEY, где ключ, на который ссылается должен быть типа int. При этом диапазон значений (0_100) может быть изменен в соответсвии с вашим кейсом. Например, fk_int_1_5 или fk_int_0_34568\n",
        "\n"
      ],
      "metadata": {
        "id": "mzkEcq2C31Fp"
      }
    },
    {
      "cell_type": "code",
      "source": [
        "column_names = {'id':'id', 'name':'name', 'phone': 'phone', 'state': 'fk_int_0_5', 'cmp': 'company', 'addr': 'address', 'price': 'float', 'dt':'date', 'e':'email'}"
      ],
      "metadata": {
        "id": "XOOJmq8uEKFP"
      },
      "execution_count": 63,
      "outputs": []
    },
    {
      "cell_type": "markdown",
      "source": [
        "### 4. Пример генерации записей с выводом на экран"
      ],
      "metadata": {
        "id": "9Vi9d7b1HAed"
      }
    },
    {
      "cell_type": "code",
      "source": [
        "q = generate_rows(row_number=k, table_name=table_name, column_names=column_names)\n",
        "print(q)"
      ],
      "metadata": {
        "colab": {
          "base_uri": "https://localhost:8080/"
        },
        "id": "hDRRWSuyELdR",
        "outputId": "d3485395-d33c-452f-d132-e096744bbba9"
      },
      "execution_count": 64,
      "outputs": [
        {
          "output_type": "stream",
          "name": "stdout",
          "text": [
            "INSERT INTO \"customer\" (\"id\", \"name\", \"phone\", \"state\", \"cmp\", \"addr\", \"price\", \"dt\", \"e\") VALUES (1, 'Григорьев Эраст Ефимьевич', '8 156 552 07 49', 2, 'ГК ТНС энерго', 'ст. Верхний Тагил, ш. Приморское, д. 97 к. 6/7, 023479', 95.48, '2023-01-15', 'milannikolaev@example.net');\n",
            "INSERT INTO \"customer\" (\"id\", \"name\", \"phone\", \"state\", \"cmp\", \"addr\", \"price\", \"dt\", \"e\") VALUES (2, 'Афанасий Изотович Тарасов', '8 343 332 0441', 0, 'НПО «Константинова, Галкин и Кудрявцев»', 'г. Кировск (Ленин.), пр. Декабристов, д. 8, 435042', 62.08, '2023-01-15', 'gennadi1989@example.com');\n",
            "INSERT INTO \"customer\" (\"id\", \"name\", \"phone\", \"state\", \"cmp\", \"addr\", \"price\", \"dt\", \"e\") VALUES (3, 'Авдеева Любовь Тимофеевна', '8 (572) 011-0850', 0, 'Роснефть', 'с. Учалы, пр. З.Космодемьянской, д. 226 к. 4, 268165', 34.68, '2023-08-11', 'martjan69@example.net');\n",
            "INSERT INTO \"customer\" (\"id\", \"name\", \"phone\", \"state\", \"cmp\", \"addr\", \"price\", \"dt\", \"e\") VALUES (4, 'Филипп Жанович Шарапов', '8 218 852 27 17', 4, 'ООО «Рожкова-Суворова»', 'клх Сосьва (Хант.), наб. Чкалова, д. 44 к. 223, 780956', 63.69, '2023-07-23', 'savelevkasjan@example.com');\n",
            "INSERT INTO \"customer\" (\"id\", \"name\", \"phone\", \"state\", \"cmp\", \"addr\", \"price\", \"dt\", \"e\") VALUES (5, 'Соболева Тамара Владимировна', '8 (309) 300-0046', 5, 'Богданова и партнеры', 'к. Кинешма, бул. Коммунистический, д. 9/9, 593417', 18.69, '2023-08-01', 'gordeevagalina@example.org');\n",
            "\n"
          ]
        }
      ]
    },
    {
      "cell_type": "markdown",
      "source": [
        "### 5. Пример с генерацией записей в файл"
      ],
      "metadata": {
        "id": "roAMOnBCHYhY"
      }
    },
    {
      "cell_type": "code",
      "source": [
        "save_to_file(row_number=k, table_name=table_name, column_names=column_names)"
      ],
      "metadata": {
        "colab": {
          "base_uri": "https://localhost:8080/",
          "height": 17
        },
        "id": "yWV0IBLNHcw3",
        "outputId": "edbf6903-f0cb-4136-b264-0977d81938ad"
      },
      "execution_count": 65,
      "outputs": [
        {
          "output_type": "display_data",
          "data": {
            "text/plain": [
              "<IPython.core.display.Javascript object>"
            ],
            "application/javascript": [
              "\n",
              "    async function download(id, filename, size) {\n",
              "      if (!google.colab.kernel.accessAllowed) {\n",
              "        return;\n",
              "      }\n",
              "      const div = document.createElement('div');\n",
              "      const label = document.createElement('label');\n",
              "      label.textContent = `Downloading \"${filename}\": `;\n",
              "      div.appendChild(label);\n",
              "      const progress = document.createElement('progress');\n",
              "      progress.max = size;\n",
              "      div.appendChild(progress);\n",
              "      document.body.appendChild(div);\n",
              "\n",
              "      const buffers = [];\n",
              "      let downloaded = 0;\n",
              "\n",
              "      const channel = await google.colab.kernel.comms.open(id);\n",
              "      // Send a message to notify the kernel that we're ready.\n",
              "      channel.send({})\n",
              "\n",
              "      for await (const message of channel.messages) {\n",
              "        // Send a message to notify the kernel that we're ready.\n",
              "        channel.send({})\n",
              "        if (message.buffers) {\n",
              "          for (const buffer of message.buffers) {\n",
              "            buffers.push(buffer);\n",
              "            downloaded += buffer.byteLength;\n",
              "            progress.value = downloaded;\n",
              "          }\n",
              "        }\n",
              "      }\n",
              "      const blob = new Blob(buffers, {type: 'application/binary'});\n",
              "      const a = document.createElement('a');\n",
              "      a.href = window.URL.createObjectURL(blob);\n",
              "      a.download = filename;\n",
              "      div.appendChild(a);\n",
              "      a.click();\n",
              "      div.remove();\n",
              "    }\n",
              "  "
            ]
          },
          "metadata": {}
        },
        {
          "output_type": "display_data",
          "data": {
            "text/plain": [
              "<IPython.core.display.Javascript object>"
            ],
            "application/javascript": [
              "download(\"download_6566c2f7-196c-4390-b0a1-bca3722dfe9f\", \"customer.sql\", 1666)"
            ]
          },
          "metadata": {}
        }
      ]
    },
    {
      "cell_type": "code",
      "source": [
        "column_names = {'id':'id', 'name':'name', 'phone': 'phone', 'state': 'fk_int_0_100', 'cmp': 'company', 'addr': 'address', 'price': 'float', 'dt':'date'}\n",
        "\n",
        "\n",
        "\n",
        "query = \"\";\n",
        "columns_str = ', '.join(f'\"{column}\"' for column in column_names.keys())\n",
        "\n",
        "\n",
        "# for key, value in column_names.items():\n",
        "  # print(key)\n",
        "  # print(value)\n",
        "  # print(get_fake_type(type=value))\n",
        "\n",
        "\n",
        "\n",
        "for i in range(5):\n",
        "  values = list()\n",
        "  values.append(i+1)\n",
        "  for k, v in column_names.items():\n",
        "    # print(k)\n",
        "    if v != 'id':\n",
        "      values.append(get_fake_type(type=v))\n",
        "  values_str = ', '.join(str(value) for value in values)\n",
        "  insert_query = f'INSERT INTO \"{table_name}\" ({columns_str}) VALUES ({values_str});\\n'\n",
        "  # print(insert_query)\n",
        "  query += insert_query\n",
        "print(query)"
      ],
      "metadata": {
        "colab": {
          "base_uri": "https://localhost:8080/"
        },
        "id": "GytDmJua57rR",
        "outputId": "bf7184c6-5923-4ebc-9acc-ac97aea72361"
      },
      "execution_count": 46,
      "outputs": [
        {
          "output_type": "stream",
          "name": "stdout",
          "text": [
            "INSERT INTO \"customer\" (\"id\", \"name\", \"phone\", \"state\", \"cmp\", \"addr\", \"price\", \"dt\") VALUES (1, 'Кузьма Эдгардович Наумов', '8 (344) 533-9673', 49, 'ЗАО «Мишин»', 'с. Владивосток, алл. Запорожская, д. 5 к. 6, 546658', 78.73, '2023-05-13');\n",
            "INSERT INTO \"customer\" (\"id\", \"name\", \"phone\", \"state\", \"cmp\", \"addr\", \"price\", \"dt\") VALUES (2, 'Тарасов Евстигней Арсенович', '+7 (382) 797-5720', 62, 'НПО «Силин»', 'ст. Нерчинск, ш. Черемушки, д. 8/7 к. 65, 929400', 36.28, '2023-08-18');\n",
            "INSERT INTO \"customer\" (\"id\", \"name\", \"phone\", \"state\", \"cmp\", \"addr\", \"price\", \"dt\") VALUES (3, 'Романов Капитон Игнатьевич', '+7 (404) 864-37-17', 8, 'Воронцова Лимитед', 'к. Бавлы, наб. Песчаная, д. 9/6 к. 5/2, 021070', 65.31, '2023-11-06');\n",
            "INSERT INTO \"customer\" (\"id\", \"name\", \"phone\", \"state\", \"cmp\", \"addr\", \"price\", \"dt\") VALUES (4, 'Ефремов Аскольд Евсеевич', '83595460209', 81, 'ООО «Мамонтова Виноградов»', 'ст. Павловская, пр. Инженерный, д. 248, 784798', 2.1, '2023-03-05');\n",
            "INSERT INTO \"customer\" (\"id\", \"name\", \"phone\", \"state\", \"cmp\", \"addr\", \"price\", \"dt\") VALUES (5, 'Измаил Гурьевич Терентьев', '+72836932744', 43, 'ООО «Зуев Маслова»', 'с. Эльбрус, алл. Энергетическая, д. 4/3, 475357', 15.81, '2023-10-04');\n",
            "\n"
          ]
        }
      ]
    },
    {
      "cell_type": "code",
      "source": [
        "# generate_rows(k, table_name, column_names)\n",
        "q = generate_rows(row_number=k, table_name=table_name, column_names=column_names)\n",
        "print(q)"
      ],
      "metadata": {
        "colab": {
          "base_uri": "https://localhost:8080/"
        },
        "id": "Cf7B5_a44Fod",
        "outputId": "fe959e03-ac6a-4ed5-eaca-efae1be7f56e"
      },
      "execution_count": 15,
      "outputs": [
        {
          "output_type": "stream",
          "name": "stdout",
          "text": [
            "INSERT INTO \"customer\" (\"id\", \"name\", \"email\", \"phone\", \"state\") VALUES (1, 'Доброслав Гурьевич Меркушев', 'andreevamos@example.com', '8 (740) 601-4521', 1);\n",
            "INSERT INTO \"customer\" (\"id\", \"name\", \"email\", \"phone\", \"state\") VALUES (2, 'Михайлова Вероника Григорьевна', 'viktorin_1983@example.net', '+7 (630) 074-66-91', 3);\n",
            "INSERT INTO \"customer\" (\"id\", \"name\", \"email\", \"phone\", \"state\") VALUES (3, 'Васильев Павел Анатольевич', 'arhipovmir@example.net', '+7 420 132 91 95', 3);\n",
            "INSERT INTO \"customer\" (\"id\", \"name\", \"email\", \"phone\", \"state\") VALUES (4, 'Воронцова Дарья Тимуровна', 'raisa41@example.net', '8 315 709 5460', 3);\n",
            "INSERT INTO \"customer\" (\"id\", \"name\", \"email\", \"phone\", \"state\") VALUES (5, 'Бирюкова Зоя Рудольфовна', 'osip_1987@example.net', '+7 877 241 9838', 1);\n",
            "\n"
          ]
        }
      ]
    },
    {
      "cell_type": "code",
      "source": [
        "# Создание объекта Faker с локализацией для России\n",
        "fake = Faker('ru_RU')\n",
        "fake.add_provider(Provider)\n",
        "\n",
        "# генерация и запись DML-скрипта в файл\n",
        "# filename = f'{table_name}.sql' # формируем название выходного файла\n",
        "# with open(filename, 'w') as f: #открытие файла для записи\n",
        "    # формируем строку с названиями столбцов\n",
        "columns_str = ', '.join(f'\"{column}\"' for column in column_names)\n",
        "for i in range(k):\n",
        "        # генерируем значения для каждого столбца\n",
        "        #для строковых значений обязательно f\"'{}'\"\n",
        "        #для целочисленных значений используем fake.random_int(min=1, max=4), в скобках указываем диапазон от мин до макс\n",
        "        name=f\"'{fake.unique.name()}'\" #генерируем случайное уникальное имя\n",
        "        email=f\"'{fake.unique.email()}'\" #генерируем случайный уникальный емейл\n",
        "        phone=f\"'{fake.phone_number()}'\" #генерируем случайный номер телефона\n",
        "        state=fake.random_int(min=1, max=4) #генерируем случайное значение внешнего ключа\n",
        "\n",
        "        # формируем список со значениями\n",
        "        values = [i+1, name, email, phone, state]\n",
        "        # формируем строку со значениями\n",
        "        values_str = ', '.join(str(value) for value in values)\n",
        "        # формируем и записываем DML-запрос в файл\n",
        "        insert_query = f'INSERT INTO \"{table_name}\" ({columns_str}) VALUES ({values_str});\\n'\n",
        "        print(insert_query) #вывод на консоль - для проверки и отладки\n",
        "        # f.write(insert_query) #запись в файл\n",
        "    # f.close() #закрытие файла\n",
        "\n",
        "# Скачиваем файл на локальную машину\n",
        "# files.download(filename)"
      ],
      "metadata": {
        "id": "O7115ecxs24s"
      },
      "execution_count": null,
      "outputs": []
    },
    {
      "cell_type": "code",
      "source": [
        "#скрипт наполнения случайными данными таблицы фактов с несколькими внешними ключами\n",
        "#для таблицы delivery\n",
        "# Создание объекта Faker с локализацией для России\n",
        "fake = Faker('ru_RU')\n",
        "fake.add_provider(Provider)\n",
        "\n",
        "# задаем названиие таблицы\n",
        "table_name = 'delivery'\n",
        "\n",
        "# задаем столбцы таблицы\n",
        "column_names = ('id', 'courier', 'price', 'wieght', 'category', 'sender', 'receiver', 'date', 'state')\n",
        "\n",
        "# задаем количество строк таблицы, которое хотим заполнить\n",
        "k = 100\n",
        "\n",
        "# генерация и запись DML-скрипта в файл\n",
        "filename = f'{table_name}.sql' # формируем название выходного файла\n",
        "with open(filename, 'w') as f: #открытие файла для записи\n",
        "    # формируем строку с названиями столбцов\n",
        "    columns_str = ', '.join(f'\"{column}\"' for column in column_names)\n",
        "    for i in range(k):\n",
        "        # генерируем значения для каждого столбца\n",
        "        #для целочисленных значений используем fake.random_int(min=1, max=4), в скобках указываем диапазон от мин до макс\n",
        "        courier=fake.random_int(min=1, max=100) #генерируем случайное значение внешнего ключа\n",
        "        price=round(fake.pyfloat(right_digits=2, min_value=0, max_value=10000), 2) #генерируем для суммы денег за заказ случайное вещественное число от 0 до 10000 с двумя знаками после запятой\n",
        "        wieght=round(fake.pyfloat(right_digits=2, min_value=0, max_value=10000), 2) #генерируем для суммы денег за заказ случайное вещественное число от 0 до 10000 с двумя знаками после запятой\n",
        "        category=fake.random_int(min=1, max=4) #генерируем случайное значение внешнего ключа\n",
        "        sender=fake.random_int(min=1, max=100) #генерируем случайное значение внешнего ключа\n",
        "        receiver=fake.random_int(min=1, max=100) #генерируем случайное значение внешнего ключа\n",
        "\n",
        "        # генерируем случайную дату в диапазоне\n",
        "        start_date = datetime.date(2023, 1, 1)\n",
        "        end_date = datetime.date(2023, 12, 31)\n",
        "        random_date = start_date + datetime.timedelta(days=random.randint(0, (end_date - start_date).days))\n",
        "        # преобразуем дату в строку в формате \"год-месяц-день\"\n",
        "        #для строковых значений обязательно f\"'{}'\"\n",
        "        date = f\"'{random_date.strftime('%Y-%m-%d')}'\"\n",
        "        state=fake.random_int(min=1, max=4) #генерируем случайное значение внешнего ключа\n",
        "\n",
        "        # формируем список со значениями\n",
        "        values = [i+1, courier, price, wieght, category, sender, receiver, date, state]\n",
        "        # формируем строку со значениями\n",
        "        values_str = ', '.join(str(value) for value in values)\n",
        "        # формируем и записываем DML-запрос в файл\n",
        "        insert_query = f'INSERT INTO \"{table_name}\" ({columns_str}) VALUES ({values_str});\\n'\n",
        "        print(insert_query) #вывод на консоль - для проверки и отладки\n",
        "        f.write(insert_query) #запись в файл\n",
        "    f.close() #закрытие файла\n",
        "\n",
        "# Скачиваем файл на локальную машину\n",
        "files.download(filename)"
      ],
      "metadata": {
        "id": "jpigCo6gYeKw"
      },
      "execution_count": null,
      "outputs": []
    },
    {
      "cell_type": "code",
      "source": [
        "#скрипт наполнения случайными данными таблицы фактов с несколькими внешними ключами\n",
        "\n",
        "# Создание объекта Faker с локализацией для России\n",
        "fake = Faker('ru_RU')\n",
        "fake.add_provider(Provider)\n",
        "\n",
        "# задаем названиие таблицы\n",
        "table_name = 'orders'\n",
        "\n",
        "# задаем столбцы таблицы\n",
        "column_names = ('id', 'customer', 'state', 'delivery', 'sum', 'date')\n",
        "\n",
        "# задаем количество строк таблицы, которое хотим заполнить\n",
        "k = 100\n",
        "\n",
        "# генерация и запись DML-скрипта в файл\n",
        "filename = f'{table_name}.sql' # формируем название выходного файла\n",
        "with open(filename, 'w') as f: #открытие файла для записи\n",
        "    # формируем строку с названиями столбцов\n",
        "    columns_str = ', '.join(f'\"{column}\"' for column in column_names)\n",
        "    for i in range(k):\n",
        "        # генерируем значения для каждого столбца\n",
        "        #для целочисленных значений используем fake.random_int(min=1, max=4), в скобках указываем диапазон от мин до макс\n",
        "        customer=fake.random_int(min=1, max=100) #генерируем случайное значение внешнего ключа\n",
        "        state=fake.random_int(min=1, max=5) #генерируем случайное значение внешнего ключа\n",
        "        sum=round(fake.pyfloat(right_digits=2, min_value=0, max_value=10000), 2) #генерируем для суммы денег за заказ случайное вещественное число от 0 до 10000 с двумя знаками после запятой\n",
        "        delivery=fake.random_int(min=1, max=5) #генерируем случайное значение внешнего ключа\n",
        "\n",
        "        # генерируем случайную дату в диапазоне\n",
        "        start_date = datetime.date(2023, 1, 1)\n",
        "        end_date = datetime.date(2023, 12, 31)\n",
        "        random_date = start_date + datetime.timedelta(days=random.randint(0, (end_date - start_date).days))\n",
        "        # преобразуем дату в строку в формате \"год-месяц-день\"\n",
        "        #для строковых значений обязательно f\"'{}'\"\n",
        "        date = f\"'{random_date.strftime('%Y-%m-%d')}'\"\n",
        "\n",
        "        # формируем список со значениями\n",
        "        values = [i+1, customer, state, delivery, sum, date]\n",
        "        # формируем строку со значениями\n",
        "        values_str = ', '.join(str(value) for value in values)\n",
        "        # формируем и записываем DML-запрос в файл\n",
        "        insert_query = f'INSERT INTO \"{table_name}\" ({columns_str}) VALUES ({values_str});\\n'\n",
        "        print(insert_query) #вывод на консоль - для проверки и отладки\n",
        "        f.write(insert_query) #запись в файл\n",
        "    f.close() #закрытие файла\n",
        "\n",
        "# Скачиваем файл на локальную машину\n",
        "files.download(filename)"
      ],
      "metadata": {
        "id": "HdxV9uihHEp7"
      },
      "execution_count": null,
      "outputs": []
    },
    {
      "cell_type": "code",
      "source": [
        "#скрипт наполнения случайными данными таблицы фактов с несколькими внешними ключами\n",
        "\n",
        "# Создание объекта Faker с локализацией для России\n",
        "fake = Faker('ru_RU')\n",
        "fake.add_provider(Provider)\n",
        "\n",
        "# задаем названиие таблицы\n",
        "table_name = 'order_product'\n",
        "\n",
        "# задаем столбцы таблицы\n",
        "column_names = ('id', 'order', 'product', 'quantity')\n",
        "\n",
        "# задаем количество строк таблицы, которое хотим заполнить\n",
        "k = 100\n",
        "\n",
        "# генерация и запись DML-скрипта в файл\n",
        "filename = f'{table_name}.sql' # формируем название выходного файла\n",
        "with open(filename, 'w') as f: #открытие файла для записи\n",
        "    # формируем строку с названиями столбцов\n",
        "    columns_str = ', '.join(f'\"{column}\"' for column in column_names)\n",
        "    for i in range(k):\n",
        "        # генерируем значения для каждого столбца\n",
        "        #для целочисленных значений используем fake.random_int(min=1, max=4), в скобках указываем диапазон от мин до макс\n",
        "        product=fake.random_int(min=1, max=71) #генерируем случайное значение внешнего ключа\n",
        "        order=fake.random_int(min=1, max=100) #генерируем случайное значение внешнего ключа\n",
        "        quantity=fake.random_int(min=1, max=15) #генерируем случайное значение количества товара в заказе\n",
        "\n",
        "        # формируем список со значениями\n",
        "        values = [i+1, order, product, quantity]\n",
        "        # формируем строку со значениями\n",
        "        values_str = ', '.join(str(value) for value in values)\n",
        "        # формируем и записываем DML-запрос в файл\n",
        "        insert_query = f'INSERT INTO \"{table_name}\" ({columns_str}) VALUES ({values_str});\\n'\n",
        "        print(insert_query) #вывод на консоль - для проверки и отладки\n",
        "        f.write(insert_query) #запись в файл\n",
        "    f.close() #закрытие файла\n",
        "\n",
        "# Скачиваем файл на локальную машину\n",
        "files.download(filename)"
      ],
      "metadata": {
        "id": "vaf9j2GCTfP5"
      },
      "execution_count": null,
      "outputs": []
    },
    {
      "cell_type": "code",
      "source": [
        "#скрипт наполнения случайными данными таблицы с датой и адресом\n",
        "\n",
        "# Создание объекта Faker с локализацией для России\n",
        "fake = Faker('ru_RU')\n",
        "fake.add_provider(Provider)\n",
        "\n",
        "# задаем названиие таблицы\n",
        "table_name = 'delivery'\n",
        "\n",
        "# задаем столбцы таблицы\n",
        "column_names = ('id', 'date', 'address', 'price')\n",
        "\n",
        "# задаем количество строк таблицы, которое хотим заполнить\n",
        "k = 100\n",
        "\n",
        "# генерация и запись DML-скрипта в файл\n",
        "filename = f'{table_name}.sql' # формируем название выходного файла\n",
        "with open(filename, 'w') as f: #открытие файла для записи\n",
        "    # формируем строку с названиями столбцов\n",
        "    columns_str = ', '.join(f'\"{column}\"' for column in column_names)\n",
        "    for i in range(k):\n",
        "      # генерируем значения для каждого столбца\n",
        "\n",
        "        # генерируем случайную дату в диапазоне\n",
        "        start_date = datetime.date(2023, 1, 1)\n",
        "        end_date = datetime.date(2023, 12, 31)\n",
        "        random_date = start_date + datetime.timedelta(days=random.randint(0, (end_date - start_date).days))\n",
        "        # преобразуем дату в строку в формате \"год-месяц-день\"\n",
        "        #для строковых значений обязательно f\"'{}'\"\n",
        "        date = f\"'{random_date.strftime('%Y-%m-%d')}'\"\n",
        "\n",
        "        #генерируем случайное значение адреса\n",
        "        address=f\"'{fake.address()}'\"\n",
        "        #генерируем для суммы денег за доставку случайное вещественное число от 0 до 1000 с двумя знаками после запятой\n",
        "        price=round(fake.pyfloat(right_digits=2, min_value=0, max_value=1000), 2)\n",
        "\n",
        "        # формируем список со значениями\n",
        "        values = [i+1, date, address, price]\n",
        "        # формируем строку со значениями\n",
        "        values_str = ', '.join(str(value) for value in values)\n",
        "        # формируем и записываем DML-запрос в файл\n",
        "        insert_query = f'INSERT INTO \"{table_name}\" ({columns_str}) VALUES ({values_str});\\n'\n",
        "        print(insert_query) #вывод на консоль - для проверки и отладки\n",
        "        f.write(insert_query) #запись в файл\n",
        "    f.close() #закрытие файла\n",
        "\n",
        "# Скачиваем файл на локальную машину\n",
        "files.download(filename)"
      ],
      "metadata": {
        "id": "HDm9tYV5stRl"
      },
      "execution_count": null,
      "outputs": []
    },
    {
      "cell_type": "code",
      "source": [
        "#скрипт наполнения случайными данными таблицы с адресом\n",
        "\n",
        "# Создание объекта Faker с локализацией для России\n",
        "fake = Faker('ru_RU')\n",
        "fake.add_provider(Provider)\n",
        "\n",
        "# задаем названиие таблицы\n",
        "table_name = 'provider'\n",
        "\n",
        "# задаем столбцы таблицы\n",
        "column_names = ('id', 'name', 'phone','email', 'address')\n",
        "\n",
        "# задаем количество строк таблицы, которое хотим заполнить\n",
        "k = 100\n",
        "\n",
        "# генерация и запись DML-скрипта в файл\n",
        "filename = f'{table_name}.sql' # формируем название выходного файла\n",
        "with open(filename, 'w') as f: #открытие файла для записи\n",
        "    # формируем строку с названиями столбцов\n",
        "    columns_str = ', '.join(f'\"{column}\"' for column in column_names)\n",
        "    for i in range(k):\n",
        "      # генерируем значения для каждого столбца\n",
        "        #для строковых значений обязательно f\"'{}'\"\n",
        "        name=f\"'{fake.unique.company()}'\" #генерируем случайное уникальное имя\n",
        "        phone=f\"'{fake.phone_number()}'\" #генерируем случайный номер телефона\n",
        "        email=f\"'{fake.email()}'\" #генерируем случайный уникальный емейл\n",
        "        address=f\"'{fake.address()}'\" #генерируем случайное значение адреса\n",
        "\n",
        "        # формируем список со значениями\n",
        "        values = [i+1, name, phone, email, address]\n",
        "        # формируем строку со значениями\n",
        "        values_str = ', '.join(str(value) for value in values)\n",
        "        # формируем и записываем DML-запрос в файл\n",
        "        insert_query = f'INSERT INTO \"{table_name}\" ({columns_str}) VALUES ({values_str});\\n'\n",
        "        print(insert_query) #вывод на консоль - для проверки и отладки\n",
        "        f.write(insert_query) #запись в файл\n",
        "    f.close() #закрытие файла\n",
        "\n",
        "# Скачиваем файл на локальную машину\n",
        "files.download(filename)"
      ],
      "metadata": {
        "id": "oj3XTpQHM9vt"
      },
      "execution_count": null,
      "outputs": []
    },
    {
      "cell_type": "code",
      "source": [
        "#скрипт наполнения таблицы-справочника из ограниченного количества значений и ссылкой на внешний ключ\n",
        "# задаем название таблицы\n",
        "table_name = 'product'\n",
        "\n",
        "# задаем столбцы таблицы\n",
        "column_names = ('id', 'name', 'provider', 'price', 'quantity')\n",
        "\n",
        "#создаем список данных - справочник значений\n",
        "products = ['яблоки желтые', 'малина', 'вода', 'хлеб белый','хлеб серый', 'креветки', 'форель', 'апельсины', 'кета','курица','яйцо перепелиное','яйцо куриное','лаваш',\n",
        "            'булка сдобная','булка сахарная','помидоры бакинские','помидоры чери','огурцы','перец сладкий','перец острый','перец болгарский','мандарины','укроп свежий',\n",
        "            'укроп сушеный','клубника свежая','клубника мороженная','мороженое','картошка','морковь', 'свекла','пангасиус','семга','кальмар замороженный','горошек зеленый',\n",
        "            'смородина черная','смородина красная','соль поваренная пищевая йодированная','чай черный байховый','чай зеленый','чай красный','кофе','кофе с молоком','какао',\n",
        "            'молоко','кефир','сыр с плесенью','сыр плавленый','сыр твердый','сыр мягкий','яблоки красные','яблоки зеленые','яблоки сушеные','икра красная',\n",
        "            'икра черная','икра заморская баклажанная','масло сливочное','масло оливковое','масло подсолнечное','масло кокосовое','орех грецкий','орех бразильский',\n",
        "            'лист лавровый','куркума','кукуруза','печенье сладкое','пряники сдобные','тесто слоеное','варенц','ряженка','снежок','шоколад молочный']\n",
        "\n",
        "# задаем количество строк таблицы, которое хотим заполнить - для таблицы-справочника это количество значений списка данных\n",
        "k = len(products)\n",
        "\n",
        "# генерация и запись DML-скрипта в файл\n",
        "filename = f'{table_name}.sql' # формируем название выходного файла\n",
        "with open(filename, 'w') as f: #открытие файла для записи\n",
        "    # формируем строку с названиями столбцов\n",
        "    columns_str = ', '.join(f'\"{column}\"' for column in column_names)\n",
        "    for i in range(k):\n",
        "        # генерируем значения для каждого столбца\n",
        "        name=f\"'{random.choice(products)}'\" #выбираем случайный товар из ограниченного списка\n",
        "        provider=fake.random_int(min=1, max=100) #генерируем случайное значение внешнего ключа\n",
        "        price=round(fake.pyfloat(right_digits=2, min_value=0, max_value=3000), 2) #генерируем для суммы денег за товар случайное вещественное число от 0 до 3000 с двумя знаками после запятой\n",
        "        quantity=fake.random_int(min=1, max=100) #генерируем случайное значение количества товара (на складе))\n",
        "        # формируем список со значениями\n",
        "        values = [i+1, name, provider, price, quantity]\n",
        "        # формируем строку со значениями\n",
        "        values_str = ', '.join(str(value) for value in values)\n",
        "        # формируем и записываем DML-запрос в файл\n",
        "        insert_query = f'INSERT INTO \"{table_name}\" ({columns_str}) VALUES ({values_str});\\n'\n",
        "        print(insert_query) #вывод на консоль - для проверки и отладки\n",
        "        f.write(insert_query) #запись в файл\n",
        "    f.close() #закрытие файла\n",
        "\n",
        "# Скачиваем файл на локальную машину\n",
        "files.download(filename)"
      ],
      "metadata": {
        "id": "_f2uymZlPT6F"
      },
      "execution_count": null,
      "outputs": []
    },
    {
      "cell_type": "markdown",
      "source": [
        "посмотреть, зачем этот скрипт"
      ],
      "metadata": {
        "id": "ppmRi19v25p8"
      }
    },
    {
      "cell_type": "code",
      "source": [
        "from faker import Faker\n",
        "import re\n",
        "import random\n",
        "\n",
        "# Читаем схему данных из файла\n",
        "with open('/content/sample_data/DDL_PSQL.txt') as f:\n",
        "    schema = f.read()\n",
        "\n",
        "# Извлекаем информацию о таблицах и столбцах\n",
        "table_columns = {}\n",
        "\n",
        "# Разбиваем схему данных на отдельные запросы\n",
        "queries = schema.split(';')\n",
        "\n",
        "for query in queries:\n",
        "    # Ищем запросы на создание таблиц\n",
        "    if query.startswith('CREATE TABLE'):\n",
        "        print(\"Найден запрос на создание таблицы:\", query)\n",
        "        # Извлекаем имя таблицы и определения столбцов\n",
        "        table_name = query.split()[2]\n",
        "        print('table_name ', table_name)\n",
        "\n",
        "        # Извлекаем определения столбцов\n",
        "        columns_str = query.split('(')[1].split(')')[0]\n",
        "        print('columns_str ', columns_str)\n",
        "        # Разбиваем определения столбцов на отдельные токены\n",
        "        column_tokens = [token.strip() for token in columns_str.split(',')]\n",
        "        print('column_tokens ', column_tokens)\n",
        "        # Извлекаем имена столбцов\n",
        "        column_names = [token.split()[0] for token in column_tokens]\n",
        "        print('column_names ', column_names)\n",
        "        table_columns[table_name] = column_names\n",
        "        print(table_columns[table_name])\n",
        "\n",
        "# Заполняем таблицы данными\n",
        "fake = Faker()\n",
        "\n",
        "for table_name, columns in table_columns.items():\n",
        "    for i in range(10):\n",
        "        values = []\n",
        "        for column in columns:\n",
        "            if column == 'id':\n",
        "                values.append(str(random.randint(1, 100)))\n",
        "            elif column == 'name':\n",
        "                values.append(fake.name())\n",
        "            elif column == 'address':\n",
        "                values.append(fake.address())\n",
        "            else:\n",
        "                values.append(fake.text(max_nb_chars=255))\n",
        "        print(values)\n",
        "        placeholders = ','.join(['%s' for _ in columns])\n",
        "        insert_query = f'INSERT INTO \"{table_name}\" (\"{\",\".join(columns)}\") VALUES ({placeholders});\\n'\n",
        "        print(insert_query)"
      ],
      "metadata": {
        "id": "MTzb4HHaz9LP"
      },
      "execution_count": null,
      "outputs": []
    }
  ]
}